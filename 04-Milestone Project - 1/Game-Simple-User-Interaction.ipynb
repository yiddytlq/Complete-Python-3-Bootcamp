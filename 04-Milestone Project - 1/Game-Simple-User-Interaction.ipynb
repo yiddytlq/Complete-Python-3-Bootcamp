{
 "cells": [
  {
   "cell_type": "code",
   "execution_count": 1,
   "metadata": {},
   "outputs": [],
   "source": [
    "game_list = [0,1,2]"
   ]
  },
  {
   "cell_type": "code",
   "execution_count": 2,
   "metadata": {},
   "outputs": [],
   "source": [
    "def dispaly_game(game_list):\n",
    "    print(\"Here is the current list\")\n",
    "    print(game_list)"
   ]
  },
  {
   "cell_type": "code",
   "execution_count": 13,
   "metadata": {},
   "outputs": [
    {
     "name": "stdout",
     "output_type": "stream",
     "text": [
      "Here is the current list\n",
      "[0, 1, 2]\n"
     ]
    }
   ],
   "source": [
    "dispaly_game(game_list)"
   ]
  },
  {
   "cell_type": "code",
   "execution_count": 14,
   "metadata": {},
   "outputs": [],
   "source": [
    "def position_choice():\n",
    "    \n",
    "    # This is the original value which cannot be an integer.\n",
    "    choice = 'Not an integer'\n",
    "    \n",
    "    # While the choice is not a digit keep asking for an input.\n",
    "    while choice not in ['0','1','2']:\n",
    "        \n",
    "        # We should not yet convert as we will get an error on a wrong input.\n",
    "        choice = input(\"Pick a position to replace (0, 1 or 2: \")\n",
    "        \n",
    "        if choice not in ['0','1','2']:\n",
    "            # This clears the current output below the cell.\n",
    "            # clear_output()\n",
    "            \n",
    "            print(\"Sorry, but you did not choose a valid position, you can only choose between 0, 1 or 2.\")\n",
    "            \n",
    "    # You can optionally clear everything after running the function.\n",
    "    # clear_output()\n",
    "    \n",
    "    # We can convert once the while loop above has confirmed we have a digit.\n",
    "    return int(choice)"
   ]
  },
  {
   "cell_type": "code",
   "execution_count": 15,
   "metadata": {},
   "outputs": [
    {
     "name": "stdout",
     "output_type": "stream",
     "text": [
      "Sorry, but you did not choose a valid position, you can only choose between 0, 1 or 2.\n",
      "Sorry, but you did not choose a valid position, you can only choose between 0, 1 or 2.\n",
      "Sorry, but you did not choose a valid position, you can only choose between 0, 1 or 2.\n",
      "Sorry, but you did not choose a valid position, you can only choose between 0, 1 or 2.\n"
     ]
    },
    {
     "data": {
      "text/plain": [
       "1"
      ]
     },
     "execution_count": 15,
     "metadata": {},
     "output_type": "execute_result"
    }
   ],
   "source": [
    "position_choice()"
   ]
  },
  {
   "cell_type": "code",
   "execution_count": 5,
   "metadata": {},
   "outputs": [],
   "source": [
    "def replacement_choice(game_list,position):\n",
    "    \n",
    "    user_placement = input(\"Type a string to place at the position\")\n",
    "    \n",
    "    game_list[position] = user_placement\n",
    "    \n",
    "    return game_list "
   ]
  },
  {
   "cell_type": "code",
   "execution_count": 16,
   "metadata": {},
   "outputs": [],
   "source": [
    "def gameon_choice():\n",
    "    \n",
    "    # This original choice value can be anything that isn't a Y or N\n",
    "    choice = 'wrong'\n",
    "    \n",
    "    # While the choice is not a digit keep asking for input.\n",
    "    while choice not in ['Y','N']:\n",
    "        \n",
    "        # We shouldnt convert here otherwise we get wrong input.\n",
    "        choice = input(\"Would you like to keep playing? Y or N \")\n",
    "        \n",
    "        if choice not in ['Y', 'N']:\n",
    "            # This clears the current output below the cell\n",
    "            # clear_output()\n",
    "            \n",
    "            print(\"Sorry, I didnt understand.  Please make sure you choose Y or N.\")\n",
    "            \n",
    "    if choice == 'Y':\n",
    "        # Game is still on\n",
    "        return True\n",
    "    else:\n",
    "        # Game is over\n",
    "        return False\n",
    "    \n",
    "        "
   ]
  },
  {
   "cell_type": "code",
   "execution_count": 18,
   "metadata": {},
   "outputs": [
    {
     "name": "stdout",
     "output_type": "stream",
     "text": [
      "Here is the current list\n",
      "[0, 1, 2]\n",
      "Here is the current list\n",
      "[0, 1, '2']\n",
      "Sorry, I didnt understand.  Please make sure you choose Y or N.\n",
      "Sorry, I didnt understand.  Please make sure you choose Y or N.\n",
      "Here is the current list\n",
      "[0, 1, '2']\n",
      "Sorry, but you did not choose a valid position, you can only choose between 0, 1 or 2.\n",
      "Sorry, but you did not choose a valid position, you can only choose between 0, 1 or 2.\n",
      "Sorry, but you did not choose a valid position, you can only choose between 0, 1 or 2.\n",
      "Sorry, but you did not choose a valid position, you can only choose between 0, 1 or 2.\n"
     ]
    }
   ],
   "source": [
    "# Variable to keep game playing\n",
    "game_on = True\n",
    "\n",
    "# First Game List\n",
    "game_list = [0,1,2]\n",
    "\n",
    "\n",
    "while game_on:\n",
    "    \n",
    "    # Clear any historical output abd show the game list.append\n",
    "    # clear_output()\n",
    "    dispaly_game(game_list)\n",
    "    \n",
    "    # Hover player choose position\n",
    "    position = position_choice()\n",
    "    \n",
    "    # Rewrite that position and update game list\n",
    "    game_list = replacement_choice(game_list,position)\n",
    "    \n",
    "    # Clear screen and show the updated game list\n",
    "    # clear_output()\n",
    "    dispaly_game(game_list)\n",
    "    \n",
    "    # Ask if you want to keep playing.\n",
    "    game_on = gameon_choice()"
   ]
  },
  {
   "cell_type": "code",
   "execution_count": null,
   "metadata": {},
   "outputs": [],
   "source": []
  },
  {
   "cell_type": "code",
   "execution_count": null,
   "metadata": {},
   "outputs": [],
   "source": []
  }
 ],
 "metadata": {
  "interpreter": {
   "hash": "c5da9bd861f2c53b220db7dc65b6b6753ce848a591c804a66e3460c09e065c96"
  },
  "kernelspec": {
   "display_name": "Python 3.9.7 64-bit",
   "language": "python",
   "name": "python3"
  },
  "language_info": {
   "codemirror_mode": {
    "name": "ipython",
    "version": 3
   },
   "file_extension": ".py",
   "mimetype": "text/x-python",
   "name": "python",
   "nbconvert_exporter": "python",
   "pygments_lexer": "ipython3",
   "version": "3.9.7"
  },
  "orig_nbformat": 4
 },
 "nbformat": 4,
 "nbformat_minor": 2
}
